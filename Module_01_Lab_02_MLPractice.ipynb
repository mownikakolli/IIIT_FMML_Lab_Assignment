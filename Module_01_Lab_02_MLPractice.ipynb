{
  "nbformat": 4,
  "nbformat_minor": 0,
  "metadata": {
    "colab": {
      "provenance": [],
      "include_colab_link": true
    },
    "kernelspec": {
      "name": "python3",
      "display_name": "Python 3"
    },
    "language_info": {
      "name": "python"
    }
  },
  "cells": [
    {
      "cell_type": "markdown",
      "metadata": {
        "id": "view-in-github",
        "colab_type": "text"
      },
      "source": [
        "<a href=\"https://colab.research.google.com/github/mownikakolli/IIIT_FMML_Lab_Assignment/blob/main/Module_01_Lab_02_MLPractice.ipynb\" target=\"_parent\"><img src=\"https://colab.research.google.com/assets/colab-badge.svg\" alt=\"Open In Colab\"/></a>"
      ]
    },
    {
      "cell_type": "markdown",
      "metadata": {
        "id": "3Eu9VZbF01eq"
      },
      "source": [
        "# Machine learning terms and metrics\n",
        "\n",
        "FMML Module 1, Lab 2<br>\n",
        "\n",
        "\n",
        " In this lab, we will show a part of the ML pipeline by extracting features, training and testing"
      ]
    },
    {
      "cell_type": "code",
      "metadata": {
        "id": "8qBvyEem0vLi"
      },
      "source": [
        "import matplotlib.pyplot as plt\n",
        "import numpy as np\n",
        "from sklearn import datasets\n",
        "# set randomseed\n",
        "rng = np.random.default_rng(seed=42)"
      ],
      "execution_count": 1,
      "outputs": []
    },
    {
      "cell_type": "markdown",
      "metadata": {
        "id": "u3t59g5s1HfC"
      },
      "source": [
        "In this lab, we will use the California Housing dataset. There are 20640 samples, each with 8 attributes like income of the block, age of the houses per district etc. The task is to predict the cost of the houses per district.\n",
        "\n",
        "Let us download and examine the dataset."
      ]
    },
    {
      "cell_type": "code",
      "metadata": {
        "id": "8LpqjN991GGJ",
        "colab": {
          "base_uri": "https://localhost:8080/"
        },
        "outputId": "386117c3-47a7-4d78-8195-f91565523cf0"
      },
      "source": [
        " dataset =  datasets.fetch_california_housing()\n",
        " # print(dataset.DESCR)  # uncomment this if you want to know more about this dataset\n",
        " # print(dataset.keys())  # if you want to know what else is there in this dataset\n",
        " dataset.target = dataset.target.astype(np.int) # so that we can classify\n",
        " print(dataset.data.shape)\n",
        " print(dataset.target.shape)"
      ],
      "execution_count": 2,
      "outputs": [
        {
          "output_type": "stream",
          "name": "stdout",
          "text": [
            "(20640, 8)\n",
            "(20640,)\n"
          ]
        },
        {
          "output_type": "stream",
          "name": "stderr",
          "text": [
            "<ipython-input-2-60ae2e9a125e>:4: DeprecationWarning: `np.int` is a deprecated alias for the builtin `int`. To silence this warning, use `int` by itself. Doing this will not modify any behavior and is safe. When replacing `np.int`, you may wish to use e.g. `np.int64` or `np.int32` to specify the precision. If you wish to review your current use, check the release note link for additional information.\n",
            "Deprecated in NumPy 1.20; for more details and guidance: https://numpy.org/devdocs/release/1.20.0-notes.html#deprecations\n",
            "  dataset.target = dataset.target.astype(np.int) # so that we can classify\n"
          ]
        }
      ]
    },
    {
      "cell_type": "markdown",
      "metadata": {
        "id": "iNx4174W5xRg"
      },
      "source": [
        "Here is a function for calculating the 1-nearest neighbours"
      ]
    },
    {
      "cell_type": "code",
      "metadata": {
        "id": "07zpydQj1hIQ"
      },
      "source": [
        "def NN1(traindata, trainlabel, query):\n",
        "  diff  = traindata - query  # find the difference between features. Numpy automatically takes care of the size here\n",
        "  sq = diff*diff # square the differences\n",
        "  dist = sq.sum(1) # add up the squares\n",
        "  label = trainlabel[np.argmin(dist)] # our predicted label is the label of the training data which has the least distance from the query\n",
        "  return label\n",
        "\n",
        "def NN(traindata, trainlabel, testdata):\n",
        "  # we will run nearest neighbour for each sample in the test data\n",
        "  # and collect the predicted classes in an array using list comprehension\n",
        "  predlabel = np.array([NN1(traindata, trainlabel, i) for i in testdata])\n",
        "  return predlabel"
      ],
      "execution_count": 3,
      "outputs": []
    },
    {
      "cell_type": "markdown",
      "metadata": {
        "id": "03JktkfIGaje"
      },
      "source": [
        "We will also define a 'random classifier', which randomly allots labels to each sample"
      ]
    },
    {
      "cell_type": "code",
      "metadata": {
        "id": "fogWAtjyGhAH"
      },
      "source": [
        "def RandomClassifier(traindata, trainlabel, testdata):\n",
        "  # in reality, we don't need these arguments\n",
        "\n",
        "  classes = np.unique(trainlabel)\n",
        "  rints = rng.integers(low=0, high=len(classes), size=len(testdata))\n",
        "  predlabel = classes[rints]\n",
        "  return predlabel"
      ],
      "execution_count": 4,
      "outputs": []
    },
    {
      "cell_type": "markdown",
      "metadata": {
        "id": "1Hjf1KHs7fU5"
      },
      "source": [
        "Let us define a metric 'Accuracy' to see how good our learning algorithm is. Accuracy is the ratio of the number of correctly classified samples to the total number of samples. The higher the accuracy, the better the algorithm."
      ]
    },
    {
      "cell_type": "code",
      "metadata": {
        "id": "ouuCqWU07bz-"
      },
      "source": [
        "def Accuracy(gtlabel, predlabel):\n",
        "  assert len(gtlabel)==len(predlabel), \"Length of the groundtruth labels and predicted labels should be the same\"\n",
        "  correct = (gtlabel==predlabel).sum() # count the number of times the groundtruth label is equal to the predicted label.\n",
        "  return correct/len(gtlabel)"
      ],
      "execution_count": 5,
      "outputs": []
    },
    {
      "cell_type": "markdown",
      "metadata": {
        "id": "4vJFwBFa9Klw"
      },
      "source": [
        "Let us make a function to split the dataset with the desired probability."
      ]
    },
    {
      "cell_type": "code",
      "metadata": {
        "id": "Ko0VzpSM2Tdi"
      },
      "source": [
        "def split(data, label, percent):\n",
        "  # generate a random number for each sample\n",
        "  rnd = rng.random(len(label))\n",
        "  split1 = rnd<percent\n",
        "  split2 = rnd>=percent\n",
        "  split1data = data[split1,:]\n",
        "  split1label = label[split1]\n",
        "  split2data = data[split2,:]\n",
        "  split2label = label[split2]\n",
        "  return split1data, split1label, split2data, split2label"
      ],
      "execution_count": 6,
      "outputs": []
    },
    {
      "cell_type": "markdown",
      "metadata": {
        "id": "AcK3LEAJ_LGC"
      },
      "source": [
        "We will reserve 20% of our dataset as the test set. We will not change this portion throughout our experiments"
      ]
    },
    {
      "cell_type": "code",
      "metadata": {
        "id": "bBZkHBLJ1iU-",
        "colab": {
          "base_uri": "https://localhost:8080/"
        },
        "outputId": "3b34498f-d24f-450e-be8c-3916089e1f42"
      },
      "source": [
        "testdata, testlabel, alltraindata, alltrainlabel = split(dataset.data, dataset.target, 20/100)\n",
        "print('Number of test samples = ', len(testlabel))\n",
        "print('Number of other samples = ', len(alltrainlabel))\n",
        "print('Percent of test data = ', len(testlabel)*100/len(dataset.target),'%')"
      ],
      "execution_count": 7,
      "outputs": [
        {
          "output_type": "stream",
          "name": "stdout",
          "text": [
            "Number of test samples =  4144\n",
            "Number of other samples =  16496\n",
            "Percent of test data =  20.07751937984496 %\n"
          ]
        }
      ]
    },
    {
      "cell_type": "markdown",
      "metadata": {
        "id": "a6Ss0Z6IAGNV"
      },
      "source": [
        "## Experiments with splits\n",
        "\n",
        "Let us reserve some of our train data as a validation set"
      ]
    },
    {
      "cell_type": "code",
      "metadata": {
        "id": "WFew2iry_7W7"
      },
      "source": [
        "traindata, trainlabel, valdata, vallabel = split(alltraindata, alltrainlabel, 75/100)"
      ],
      "execution_count": 8,
      "outputs": []
    },
    {
      "cell_type": "markdown",
      "metadata": {
        "id": "60hiu4clFN1i"
      },
      "source": [
        "What is the accuracy of our classifiers on the train dataset?"
      ]
    },
    {
      "cell_type": "code",
      "metadata": {
        "id": "DBlZDTHUFTZx",
        "colab": {
          "base_uri": "https://localhost:8080/"
        },
        "outputId": "77a21a8e-953a-45e2-9db8-6e74ad6d3f5e"
      },
      "source": [
        "trainpred = NN(traindata, trainlabel, traindata)\n",
        "trainAccuracy = Accuracy(trainlabel, trainpred)\n",
        "print(\"Train accuracy using nearest neighbour is \", trainAccuracy)\n",
        "\n",
        "trainpred = RandomClassifier(traindata, trainlabel, traindata)\n",
        "trainAccuracy = Accuracy(trainlabel, trainpred)\n",
        "print(\"Train accuracy using random classifier is \", trainAccuracy)"
      ],
      "execution_count": 9,
      "outputs": [
        {
          "output_type": "stream",
          "name": "stdout",
          "text": [
            "Train accuracy using nearest neighbour is  1.0\n",
            "Train accuracy using random classifier is  0.164375808538163\n"
          ]
        }
      ]
    },
    {
      "cell_type": "markdown",
      "metadata": {
        "id": "7h08-9gJDtSy"
      },
      "source": [
        "For nearest neighbour, the train accuracy is always 1. The accuracy of the random classifier is close to 1/(number of classes) which is 0.1666 in our case.\n",
        "\n",
        "Let us predict the labels for our validation set and get the accuracy"
      ]
    },
    {
      "cell_type": "code",
      "metadata": {
        "id": "4h7bXoW_2H3v",
        "colab": {
          "base_uri": "https://localhost:8080/"
        },
        "outputId": "26ccaf48-364c-4e19-ccfd-ea1b35a780d7"
      },
      "source": [
        "valpred = NN(traindata, trainlabel, valdata)\n",
        "valAccuracy = Accuracy(vallabel, valpred)\n",
        "print(\"Validation accuracy using nearest neighbour is \", valAccuracy)\n",
        "\n",
        "valpred = RandomClassifier(traindata, trainlabel, valdata)\n",
        "valAccuracy = Accuracy(vallabel, valpred)\n",
        "print(\"Validation accuracy using random classifier is \", valAccuracy)"
      ],
      "execution_count": 10,
      "outputs": [
        {
          "output_type": "stream",
          "name": "stdout",
          "text": [
            "Validation accuracy using nearest neighbour is  0.34108527131782945\n",
            "Validation accuracy using random classifier is  0.1688468992248062\n"
          ]
        }
      ]
    },
    {
      "cell_type": "markdown",
      "metadata": {
        "id": "py9bLguFEjfg"
      },
      "source": [
        "Validation accuracy of nearest neighbour is considerably less than its train accuracy while the validation accuracy of random classifier is the same. However, the validation accuracy of nearest neighbour is twice that of the random classifier.\n",
        "\n",
        "Now let us try another random split and check the validation accuracy"
      ]
    },
    {
      "cell_type": "code",
      "metadata": {
        "id": "ujm3cyYzEntE",
        "colab": {
          "base_uri": "https://localhost:8080/"
        },
        "outputId": "236dcfb8-de0f-4b81-e8f9-264653c4f696"
      },
      "source": [
        "traindata, trainlabel, valdata, vallabel = split(alltraindata, alltrainlabel, 75/100)\n",
        "valpred = NN(traindata, trainlabel, valdata)\n",
        "valAccuracy = Accuracy(vallabel, valpred)\n",
        "print(\"Validation accuracy of nearest neighbour is \", valAccuracy)"
      ],
      "execution_count": 11,
      "outputs": [
        {
          "output_type": "stream",
          "name": "stdout",
          "text": [
            "Validation accuracy of nearest neighbour is  0.34048257372654156\n"
          ]
        }
      ]
    },
    {
      "cell_type": "markdown",
      "metadata": {
        "id": "oSOx7U83EKie"
      },
      "source": [
        "You can run the above cell multiple times to try with different random splits.\n",
        "We notice that the accuracy is different for each run, but close together.\n",
        "\n",
        "Now let us compare it with the accuracy we get on the test dataset."
      ]
    },
    {
      "cell_type": "code",
      "metadata": {
        "id": "PNEZ5ToYBEDW",
        "colab": {
          "base_uri": "https://localhost:8080/"
        },
        "outputId": "39b98fcd-7cc3-4513-a36b-a2f93eb7e822"
      },
      "source": [
        "testpred = NN(alltraindata, alltrainlabel, testdata)\n",
        "testAccuracy = Accuracy(testlabel, testpred)\n",
        "print('Test accuracy is ', testAccuracy)"
      ],
      "execution_count": 12,
      "outputs": [
        {
          "output_type": "stream",
          "name": "stdout",
          "text": [
            "Test accuracy is  0.34917953667953666\n"
          ]
        }
      ]
    },
    {
      "cell_type": "markdown",
      "metadata": {
        "id": "w3dGD531K3gH"
      },
      "source": [
        "### Try it out for yourself and answer:\n",
        "1. How is the accuracy of the validation set affected if we increase the percentage of validation set? What happens when we reduce it?\n",
        "2. How does the size of the train and validation set affect how well we can predict the accuracy on the test set using the validation set?\n",
        "3. What do you think is a good percentage to reserve for the validation set so that thest two factors are balanced?\n",
        "\n",
        "Answer for both nearest neighbour and random classifier. You can note down the values for your experiments and plot a graph using  <a href=https://matplotlib.org/stable/gallery/lines_bars_and_markers/step_demo.html#sphx-glr-gallery-lines-bars-and-markers-step-demo-py>plt.plot<href>. Check also for extreme values for splits, like 99.9% or 0.1%"
      ]
    },
    {
      "cell_type": "markdown",
      "source": [
        "1 **answer**\n"
      ],
      "metadata": {
        "id": "uko7mgZakoA6"
      }
    },
    {
      "cell_type": "markdown",
      "source": [
        "The percentage of the validation set in a machine learning experiment can have a significant impact on model training and evaluation. Let's explore how increasing and reducing the percentage of the validation set can affect validation accuracy:\n",
        "\n",
        "Increasing the Percentage of the Validation Set:\n",
        "\n",
        "Pros:\n",
        "\n",
        "More data for validation can lead to a more reliable estimate of model performance. A larger validation set provides a better representation of the model's generalization capabilities.\n",
        "It can help in identifying overfitting more accurately. A larger validation set is more likely to capture the model's tendency to overfit the training data.\n",
        "Cons:\n",
        "\n",
        "You have less data available for training, which can lead to longer training times or, in some cases, difficulty in training a complex model effectively.\n",
        "If you have a limited dataset, allocating a larger portion to the validation set may reduce the amount of data the model can learn from, potentially leading to underfitting.\n",
        "Impact on Validation Accuracy:\n",
        "\n",
        "Initially, as you increase the percentage of the validation set, validation accuracy may improve because you have a better estimate of generalization performance.\n",
        "However, if you allocate too much data to the validation set, your model might not have enough data to train effectively, and validation accuracy may start to degrade.\n",
        "Reducing the Percentage of the Validation Set:\n",
        "\n",
        "Pros:\n",
        "\n",
        "More data for training can help the model learn more effectively, especially if you have a limited dataset.\n",
        "Training times may be shorter, as you have a larger portion of data available for training.\n",
        "Cons:\n",
        "\n",
        "The estimate of model performance on unseen data may be less reliable because the validation set is smaller and might not represent the data distribution well.\n",
        "It can be harder to detect overfitting since the validation set may not be large enough to capture subtle overfitting issues.\n",
        "Impact on Validation Accuracy:\n",
        "\n",
        "Initially, as you reduce the percentage of the validation set, training accuracy may improve because the model has more data to learn from.\n",
        "However, if you allocate too little data to the validation set, your estimate of generalization performance may become less accurate, and you might not detect overfitting issues until you apply the model to new, unseen data.\n",
        "In practice, the choice of the percentage of the validation set depends on the specific problem, dataset size, and computational resources available. It's often recommended to split the data into training, validation, and test sets while ensuring that the validation set is large enough to provide a reliable estimate of model performance but not so large that it hinders effective model training. Cross-validation techniques can also be employed to mitigate the impact of limited validation data."
      ],
      "metadata": {
        "id": "cMWfrmUMktkl"
      }
    },
    {
      "cell_type": "markdown",
      "source": [
        "2 answer\n",
        "The size of the training and validation sets can indeed affect how well we can predict the accuracy on the test set using the validation set. Here's how:\n",
        "\n",
        "Large Training Set, Small Validation Set:\n",
        "\n",
        "When you have a large training set and a small validation set, you might have a highly capable model because it has access to a lot of training data. However, the small validation set might not provide a reliable estimate of the model's performance on unseen data.\n",
        "\n",
        "Predicting accuracy on the test set based on the validation set in this scenario can be less reliable. A model that performs well on a small validation set might still perform poorly on the larger, more diverse test set.\n",
        "\n",
        "Small Training Set, Large Validation Set:\n",
        "\n",
        "With a small training set and a large validation set, you have a more reliable estimate of the model's performance on your specific validation data. However, the model might not generalize well to the test set if it hasn't seen enough diverse examples during training.\n",
        "\n",
        "Predicting accuracy on the test set based on the validation set in this scenario might be more reliable for the validation set itself but may still overestimate the model's true performance on unseen data.\n",
        "\n",
        "Balanced Training and Validation Set Sizes:\n",
        "\n",
        "Ideally, you want a balanced allocation of data between the training and validation sets. This allows the model to learn from a reasonable amount of data while having a representative validation set for performance estimation.\n",
        "\n",
        "In this case, predicting accuracy on the test set based on the validation set tends to be more reliable. If the validation set is a good representation of the test set in terms of data distribution and diversity, the validation performance is a reasonable indicator of how the model will perform on unseen data.\n",
        "\n",
        "Cross-Validation:\n",
        "\n",
        "To further improve the reliability of predicting test set accuracy, you can use techniques like k-fold cross-validation. In k-fold cross-validation, the dataset is divided into k subsets, and the model is trained and validated k times, with each subset serving as the validation set once.\n",
        "\n",
        "This approach helps in obtaining a more robust estimate of the model's performance because it reduces the dependency on a single validation set. The average validation performance across k folds is a better indicator of how the model is likely to perform on unseen data.\n",
        "\n"
      ],
      "metadata": {
        "id": "JK8d7pz1kz83"
      }
    },
    {
      "cell_type": "markdown",
      "source": [
        "**3 answer**\n"
      ],
      "metadata": {
        "id": "ovgX1rYSlLeD"
      }
    },
    {
      "cell_type": "markdown",
      "metadata": {
        "id": "PnYvkAZLQY7h"
      },
      "source": [
        "## Multiple Splits\n",
        "\n",
        "One way to get more accurate estimates for the test accuracy is by using <b>crossvalidation</b>. Here, we will try a simple version, where we do multiple train/val splits and take the average of validation accuracies as the test accuracy estimation. Here is a function for doing this. Note that this function will take a long time to execute."
      ]
    },
    {
      "cell_type": "code",
      "metadata": {
        "id": "E4nGCUQXBTzo"
      },
      "source": [
        "# you can use this function for random classifier also\n",
        "def AverageAccuracy(alldata, alllabel, splitpercent, iterations, classifier=NN):\n",
        "  accuracy = 0\n",
        "  for ii in range(iterations):\n",
        "    traindata, trainlabel, valdata, vallabel = split(alldata, alllabel, splitpercent)\n",
        "    valpred = classifier(traindata, trainlabel, valdata)\n",
        "    accuracy += Accuracy(vallabel, valpred)\n",
        "  return accuracy/iterations # average of all accuracies"
      ],
      "execution_count": null,
      "outputs": []
    },
    {
      "cell_type": "code",
      "metadata": {
        "id": "H3qtNar7Bbik",
        "colab": {
          "base_uri": "https://localhost:8080/"
        },
        "outputId": "b675e5c4-ed7e-43f6-e629-688eec29f7d0"
      },
      "source": [
        "print('Average validation accuracy is ', AverageAccuracy(alltraindata, alltrainlabel, 75/100, 10, classifier=NN))\n",
        "testpred = NN(alltraindata, alltrainlabel, testdata)\n",
        "print('test accuracy is ',Accuracy(testlabel, testpred) )"
      ],
      "execution_count": null,
      "outputs": [
        {
          "output_type": "stream",
          "name": "stdout",
          "text": [
            "Average validation accuracy is  0.33584635395170215\n",
            "test accuracy is  0.34917953667953666\n"
          ]
        }
      ]
    },
    {
      "cell_type": "markdown",
      "metadata": {
        "id": "33GIn4x5VH-d"
      },
      "source": [
        "This is a very simple way of doing cross-validation. There are many well-known algorithms for cross-validation, like k-fold cross-validation, leave-one-out etc. This will be covered in detail in a later module. For more information about cross-validation, check <a href=https://en.wikipedia.org/wiki/Cross-validation_(statistics)>Cross-validatioin (Wikipedia)</a>\n",
        "\n",
        "### Questions\n",
        "1. Does averaging the validation accuracy across multiple splits give more consistent results?\n",
        "2. Does it give more accurate estimate of test accuracy?\n",
        "3. What is the effect of the number of iterations on the estimate? Do we get a better estimate with higher iterations?\n",
        "4. Consider the results you got for the previous questions. Can we deal with a very small train dataset or validation dataset by increasing the iterations?\n"
      ]
    },
    {
      "cell_type": "markdown",
      "source": [
        "**1 answer**"
      ],
      "metadata": {
        "id": "LJXRgM7UmvY2"
      }
    },
    {
      "cell_type": "markdown",
      "source": [
        "\n",
        "Yes, averaging the validation accuracy across multiple splits, such as in k-fold cross-validation, can provide more consistent and reliable results compared to relying on a single validation split. Here's why averaging validation accuracy is beneficial:\n",
        "\n",
        "Reduces Variance: Averaging across multiple splits helps to reduce the variance in the performance estimate. With a single validation split, the performance estimate can be highly dependent on the particular data points chosen for validation. In contrast, cross-validation repeatedly partitions the data into different training and validation sets, providing a more stable estimate of model performance.\n",
        "\n",
        "Better Generalization: By using different subsets of data for validation in each fold, cross-validation helps assess how well the model generalizes to various portions of the dataset. This is especially valuable when the dataset is limited or contains variations in data distribution.\n",
        "\n",
        "More Robust Model Evaluation: Cross-validation allows you to obtain multiple performance metrics, each corresponding to a different validation fold. You can calculate various statistics, such as mean, standard deviation, or confidence intervals, to gain a better understanding of the model's expected performance and its variability.\n",
        "\n",
        "Reduced Bias: Averaging results from multiple folds can help mitigate any potential bias introduced by a specific validation split. It ensures that the model's performance is evaluated across various subsets of the data, reducing the risk of obtaining overly optimistic or pessimistic estimates.\n",
        "\n",
        "Improved Hyperparameter Tuning: When tuning hyperparameters or comparing different models, cross-validation provides a more accurate basis for model selection. It helps you choose the model that performs consistently well across multiple validation folds rather than one that performs well on a single split by chance.\n",
        "\n",
        "Overall, cross-validation, by averaging validation accuracy across multiple splits, is a standard technique in machine learning for robust model evaluation. It provides a more dependable estimate of a model's performance and allows you to make more informed decisions regarding model selection, hyperparameter tuning, and assessing model generalization.\n",
        "\n",
        "\n",
        "\n",
        "\n",
        "\n"
      ],
      "metadata": {
        "id": "CjA_dIJPmPA0"
      }
    },
    {
      "cell_type": "markdown",
      "source": [
        "**2 answer**"
      ],
      "metadata": {
        "id": "iBJgZh6gmqvE"
      }
    },
    {
      "cell_type": "markdown",
      "source": [
        "Cross-validation, specifically k-fold cross-validation, provides a more accurate estimate of test accuracy compared to a single validation split when you don't have access to a separate test dataset. However, it's important to understand the terminology and context:\n",
        "\n",
        "1. **Validation Accuracy vs. Test Accuracy**:\n",
        "\n",
        "   - **Validation Accuracy**: This is an estimate of how well your model is performing on data that it has not seen during training but is still part of your dataset. It helps you tune hyperparameters and assess the model's performance during development.\n",
        "\n",
        "   - **Test Accuracy**: This is an estimate of how well your model is expected to perform on completely unseen, real-world data. Test accuracy is what you're ultimately interested in, as it reflects the model's ability to generalize to new, unknown examples.\n",
        "\n",
        "2. **Using Cross-Validation for Test Accuracy Estimation**:\n",
        "\n",
        "   - When you don't have a separate, dedicated test dataset, you can use k-fold cross-validation to get a more accurate estimate of how your model is likely to perform on unseen data.\n",
        "\n",
        "   - In k-fold cross-validation, you partition your dataset into k subsets or folds. You then train and validate your model k times, using each fold as the validation set once while the remaining k-1 folds are used for training.\n",
        "\n",
        "   - After each iteration, you can calculate a validation accuracy. When you finish all k iterations, you can average these validation accuracies to obtain a more robust estimate of your model's performance.\n",
        "\n",
        "   - While the averaged validation accuracy is not precisely the same as test accuracy on truly unseen data, it is a better estimate than a single validation split. It provides a more reliable indicator of how well your model is likely to generalize.\n",
        "\n",
        "3. **Keep in Mind**:\n",
        "\n",
        "   - Cross-validation can give you a more accurate estimate of how your model will perform on unseen data within the context of your dataset. However, it cannot replace a true test dataset, which represents data from the real world that your model has never encountered before.\n",
        "\n",
        "   - To obtain a truly unbiased estimate of test accuracy, it is recommended, whenever possible, to set aside a separate test dataset that you do not use during model development or hyperparameter tuning. This ensures that your test accuracy estimate is as close as possible to the model's performance in a real-world scenario.\n",
        "\n",
        "In summary, while k-fold cross-validation provides a more accurate estimate of how your model is likely to perform on unseen data within the dataset you have, it is not a substitute for a dedicated test dataset when you need to evaluate your model's performance in real-world scenarios. Test datasets are crucial for ensuring the reliability of your model's performance estimates."
      ],
      "metadata": {
        "id": "K5W3UFJfm1YN"
      }
    },
    {
      "cell_type": "markdown",
      "source": [
        "**3 answer**"
      ],
      "metadata": {
        "id": "vV9dIHtomnIo"
      }
    },
    {
      "cell_type": "markdown",
      "source": [
        "In the context of k-fold cross-validation, the number of iterations, or folds (k), can have an impact on the estimate of model performance. Generally, increasing the number of iterations can lead to a more reliable estimate of model performance, up to a certain point. Here's how the number of iterations affects the estimate:\n",
        "\n",
        "1. **Effect of Increasing Iterations**:\n",
        "\n",
        "   - **Pros**:\n",
        "     - **Stability**: With a larger number of iterations (higher k), the estimate of model performance becomes more stable and less dependent on the specific data split. This reduces the impact of randomness in the selection of training and validation sets.\n",
        "\n",
        "     - **Reduced Bias**: More iterations help in reducing bias in the performance estimate. It ensures that the model is evaluated on a more diverse set of validation data, which can provide a more balanced view of its generalization ability.\n",
        "\n",
        "     - **Better Confidence Intervals**: Averaging results from more iterations allows for more accurate calculation of confidence intervals, helping you understand the range within which the true model performance likely falls.\n",
        "\n",
        "   - **Cons**:\n",
        "     - **Increased Computational Cost**: As you increase the number of iterations, cross-validation becomes computationally more expensive, as you need to train and validate the model multiple times.\n",
        "\n",
        "2. **Optimal Number of Iterations (k)**:\n",
        "\n",
        "   - There is typically a trade-off between the number of iterations and computational resources. You want to choose a value for k that balances the need for a reliable estimate with practical constraints.\n",
        "\n",
        "   - Common choices for k include 5-fold, 10-fold, and occasionally 3-fold cross-validation. These values strike a reasonable balance between estimation accuracy and computational cost.\n",
        "\n",
        "   - In practice, the choice of k may depend on factors such as the size of your dataset, the complexity of your model, and available computational resources. Smaller datasets might benefit from higher values of k, while larger datasets may be adequately evaluated with lower values of k.\n",
        "\n",
        "3. **Law of Diminishing Returns**:\n",
        "\n",
        "   - It's important to note that there is a law of diminishing returns when it comes to increasing the number of iterations. After a certain point, increasing k might not yield substantial improvements in the reliability of the performance estimate, but it will significantly increase the computational cost.\n",
        "\n",
        "   - In cases where computational resources are limited, it's often better to use a moderate value of k and ensure that you have a sufficiently large and representative dataset.\n",
        "\n",
        "In summary, increasing the number of iterations in cross-validation generally leads to a more reliable estimate of model performance, up to a point. However, the choice of the optimal number of iterations should consider the balance between estimation accuracy and computational cost, with common values like 5-fold or 10-fold cross-validation being practical choices in many situations."
      ],
      "metadata": {
        "id": "TMM5u9RAnXnr"
      }
    },
    {
      "cell_type": "markdown",
      "source": [
        "**4 answer**"
      ],
      "metadata": {
        "id": "K6JTUedGnt8E"
      }
    },
    {
      "cell_type": "markdown",
      "source": [
        "Increasing the number of iterations (folds) in cross-validation can help mitigate some of the challenges associated with having a very small training dataset or validation dataset to some extent, but it does not completely solve the fundamental limitations imposed by small dataset sizes. Here's how increasing iterations can help and what its limitations are:\n",
        "\n",
        "**Pros**:\n",
        "\n",
        "1. **Better Stability**: With more iterations, cross-validation provides a more stable estimate of model performance. It reduces the impact of randomness in data splits, which can be significant when the dataset is small.\n",
        "\n",
        "2. **Reduced Bias**: More iterations ensure that the model is evaluated on various subsets of the data, helping to reduce bias in performance estimation. This can be valuable when dealing with limited data.\n",
        "\n",
        "3. **Improved Confidence Intervals**: Averaging results from more iterations allows for more accurate calculation of confidence intervals, which helps you better understand the range of likely model performance.\n",
        "\n",
        "**Cons**:\n",
        "\n",
        "1. **Data Limitations Persist**: Increasing iterations doesn't change the fact that you have a small dataset. The fundamental constraint of having limited data still applies. With a very small dataset, the model may struggle to learn complex patterns, and cross-validation can't create more data.\n",
        "\n",
        "2. **Risk of Overfitting**: If your dataset is extremely small, increasing iterations can lead to models that are too complex and overfit the training data. In such cases, even if cross-validation provides a more reliable estimate of performance on your limited data, the model's actual ability to generalize to new, unseen data may not improve.\n",
        "\n",
        "3. **Computational Cost**: As you increase the number of iterations, cross-validation becomes computationally more expensive. This can be a concern if you have limited computational resources.\n",
        "\n",
        "4. **Diminishing Returns**: There is a point of diminishing returns where increasing the number of iterations doesn't significantly improve the reliability of performance estimation, but it significantly increases computational costs.\n",
        "\n",
        "In summary, while increasing the number of iterations in cross-validation can provide more stable and less biased estimates of model performance, it cannot fully compensate for the limitations imposed by having a very small training or validation dataset. Small datasets inherently have constraints on model learning and generalization, and additional iterations primarily help in improving the reliability of performance estimation within those constraints. If possible, obtaining more data or using techniques like data augmentation can be more effective in improving model performance with small datasets."
      ],
      "metadata": {
        "id": "xCXnXB0bnwkw"
      }
    }
  ]
}